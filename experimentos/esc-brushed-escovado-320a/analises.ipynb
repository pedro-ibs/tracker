{
 "cells": [
  {
   "cell_type": "code",
   "execution_count": 1,
   "id": "b895d183-4381-46f6-b196-1f8f00e57bcf",
   "metadata": {
    "tags": []
   },
   "outputs": [
    {
     "ename": "ModuleNotFoundError",
     "evalue": "No module named 'helper'",
     "output_type": "error",
     "traceback": [
      "\u001b[0;31m---------------------------------------------------------------------------\u001b[0m",
      "\u001b[0;31mModuleNotFoundError\u001b[0m                       Traceback (most recent call last)",
      "Cell \u001b[0;32mIn[1], line 12\u001b[0m\n\u001b[1;32m      9\u001b[0m \u001b[38;5;28;01mimport\u001b[39;00m \u001b[38;5;21;01mscipy\u001b[39;00m\u001b[38;5;21;01m.\u001b[39;00m\u001b[38;5;21;01mspecial\u001b[39;00m \u001b[38;5;28;01mas\u001b[39;00m \u001b[38;5;21;01mspecial\u001b[39;00m\n\u001b[1;32m     10\u001b[0m \u001b[38;5;28;01mimport\u001b[39;00m \u001b[38;5;21;01mscipy\u001b[39;00m\u001b[38;5;21;01m.\u001b[39;00m\u001b[38;5;21;01mconstants\u001b[39;00m \u001b[38;5;28;01mas\u001b[39;00m \u001b[38;5;21;01mconstant\u001b[39;00m\n\u001b[0;32m---> 12\u001b[0m \u001b[38;5;28;01mfrom\u001b[39;00m \u001b[38;5;21;01mhelper\u001b[39;00m \u001b[38;5;28;01mimport\u001b[39;00m angles2quat, plot_rotation\n\u001b[1;32m     14\u001b[0m \u001b[38;5;28;01mimport\u001b[39;00m \u001b[38;5;21;01msys\u001b[39;00m\n\u001b[1;32m     15\u001b[0m \u001b[38;5;28;01mimport\u001b[39;00m \u001b[38;5;21;01mos\u001b[39;00m\n",
      "\u001b[0;31mModuleNotFoundError\u001b[0m: No module named 'helper'"
     ]
    }
   ],
   "source": [
    "import pandas as pd\n",
    "import numpy as np\n",
    "import matplotlib.pyplot as plt\n",
    "import seaborn as sns\n",
    "import statistics\n",
    "import math\n",
    "\n",
    "import scipy.integrate as integrate\n",
    "import scipy.special as special\n",
    "import scipy.constants as constant\n",
    "\n",
    "from helper import angles2quat, plot_rotation\n",
    "\n",
    "import sys\n",
    "import os"
   ]
  },
  {
   "cell_type": "code",
   "execution_count": null,
   "id": "1ce17e97-7e82-49e9-9f8a-83468c468b3a",
   "metadata": {
    "tags": []
   },
   "outputs": [],
   "source": [
    "PWM_127_PARA_255 = pd.read_csv( '~/workspace/trekking/experimentos/esc-brushed-escovado-320a/PWM_127_PARA_255.csv' )\n",
    "PWM_127_PARA_255 = pd.DataFrame( PWM_127_PARA_255 )\n",
    "PWM_127_PARA_255 = PWM_127_PARA_255.dropna()"
   ]
  },
  {
   "cell_type": "code",
   "execution_count": null,
   "id": "73355059-6800-4623-b082-2e3519c4ed53",
   "metadata": {
    "tags": []
   },
   "outputs": [],
   "source": [
    "PWM_127_PARA_255.info()"
   ]
  },
  {
   "cell_type": "code",
   "execution_count": null,
   "id": "5817e8da-5c27-4cc4-a187-a2a2f8bf116d",
   "metadata": {
    "tags": []
   },
   "outputs": [],
   "source": [
    "PWM_127_PARA_255.head()"
   ]
  },
  {
   "cell_type": "code",
   "execution_count": null,
   "id": "df3f6aeb-0e44-4d7e-bb27-c9e58a508d31",
   "metadata": {
    "tags": []
   },
   "outputs": [],
   "source": [
    "NEW_PWM_127_PARA_255 = {'pwm': [], 'periodo': []}\n",
    "\n",
    "for pwm in range(153, 254):\n",
    "    query = PWM_127_PARA_255.query(\"pwm == \"+ str( pwm ))\n",
    "    \n",
    "    NEW_PWM_127_PARA_255['pwm'].append( pwm )\n",
    "    NEW_PWM_127_PARA_255['periodo'].append( statistics.mean( query['periodo'] ) )\n",
    "    \n",
    "NEW_PWM_127_PARA_255 = pd.DataFrame(data=NEW_PWM_127_PARA_255)"
   ]
  },
  {
   "cell_type": "code",
   "execution_count": null,
   "id": "a289af43-856a-4d2f-b3d6-c926ebc95dea",
   "metadata": {
    "tags": []
   },
   "outputs": [],
   "source": [
    "plt.rcParams.update({'font.size': 14})\n",
    "\n",
    "# x = PWM_127_PARA_255['pwm']\n",
    "# y = PWM_127_PARA_255['periodo']\n",
    "x = NEW_PWM_127_PARA_255['pwm']\n",
    "y = NEW_PWM_127_PARA_255['periodo']\n",
    "\n",
    "\n",
    "t = np.poly1d( np.polyfit( x, y, 10 ) )\n",
    "t = t(x)\n",
    "\n",
    "plt.plot(x, y,'k')\n",
    "plt.plot(x, t,'b--')\n",
    "\n",
    "plt.title('Taxa de Variação de velocidade do ESC-320A')\n",
    "plt.xlabel('PWM')\n",
    "plt.ylabel('Periodo [ ns ] ')\n",
    "plt.grid()"
   ]
  },
  {
   "cell_type": "code",
   "execution_count": null,
   "id": "8244f967-f478-4a85-9ff7-282bd1763c89",
   "metadata": {},
   "outputs": [],
   "source": []
  }
 ],
 "metadata": {
  "kernelspec": {
   "display_name": "Python 3 (ipykernel)",
   "language": "python",
   "name": "python3"
  },
  "language_info": {
   "codemirror_mode": {
    "name": "ipython",
    "version": 3
   },
   "file_extension": ".py",
   "mimetype": "text/x-python",
   "name": "python",
   "nbconvert_exporter": "python",
   "pygments_lexer": "ipython3",
   "version": "3.11.4"
  }
 },
 "nbformat": 4,
 "nbformat_minor": 5
}
